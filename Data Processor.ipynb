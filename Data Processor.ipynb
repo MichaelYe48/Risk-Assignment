{
 "cells": [
  {
   "cell_type": "code",
   "execution_count": 1,
   "id": "08598d58-61aa-4051-be99-7d87e2487ca2",
   "metadata": {},
   "outputs": [],
   "source": [
    "### Uncomment to install each dependency ###\n",
    "#% pip install pandas\n",
    "#% pip install DateTime\n",
    "#%pip install --user -U nltk\n",
    "#%pip install -U scikit-learn"
   ]
  },
  {
   "cell_type": "code",
   "execution_count": null,
   "id": "d8837e49-6517-4ee9-87ca-af77ae567e9a",
   "metadata": {},
   "outputs": [],
   "source": [
    "import pandas as pd\n",
    "from datetime import datetime\n",
    "\n",
    "import nltk\n",
    "from nltk.stem import PorterStemmer\n",
    "from nltk.corpus import stopwords\n",
    "from nltk.tokenize import word_tokenize\n",
    "\n",
    "from sklearn.cluster import DBSCAN\n",
    "from sklearn.feature_extraction.text import TfidfVectorizer\n",
    "from sklearn.metrics.pairwise import cosine_similarity"
   ]
  },
  {
   "cell_type": "markdown",
   "id": "7abc1963-911c-4475-9a02-417a7ee89be9",
   "metadata": {},
   "source": [
    "**data_processor** This function processes several columns of the dataframe to be used in the main function.<br>\n",
    "  \n",
    "operations:  \n",
    "- date processesing: converts all date values into datetime objects to allow for comparison operations<br>\n",
    "- invoice description: processed invoice description to allow similarity checks <br>\n",
    "- cluster creation: created new column to index the different clusters grouping similar invoices <br>\n",
    "  \n",
    "<!-- authors: *Michael Ye* -->"
   ]
  },
  {
   "cell_type": "code",
   "execution_count": 2,
   "id": "39169603-a231-4c58-b169-8b2ecfe6f81e",
   "metadata": {},
   "outputs": [],
   "source": [
    "data = pd.read_excel('Final Dataset v12.xlsx')\n",
    "data.drop('RISK RATING', inplace=True, axis=1)\n",
    "\n",
    "def data_processor():\n",
    "    data['Payment Date'] = pd.to_datetime(data['Payment Date'])\n",
    "    data['Invoice Date'] = pd.to_datetime(data['Invoice Date'])\n",
    "    data['BOS Date'] = pd.to_datetime(data['BOS Date'])\n",
    "    data['Void Date'] = pd.to_datetime(data['Void Date'])\n",
    "    data['PO Date'] = pd.to_datetime(data['PO Date'])\n",
    "    data['Invoice Description'] = data['Invoice Description'].astype(str)\n",
    "    # creating clusters\n",
    "    stemmer = PorterStemmer()\n",
    "    stop_words = set(stopwords.words('english'))\n",
    "\n",
    "    def string_processor(sentence):\n",
    "        tokens = word_tokenize(sentence)\n",
    "        stemmed_tokens = [stemmer.stem(token) for token in tokens if token.lower() not in stop_words]\n",
    "        return ' '.join(stemmed_tokens)\n",
    "\n",
    "    data['Processed Invoice Description'] = data['Invoice Description'].apply(string_processor)\n",
    "\n",
    "    # Compute TF-IDF matrix for all descriptions\n",
    "    tfidf_vectorizer = TfidfVectorizer()\n",
    "    tfidf_matrix = tfidf_vectorizer.fit_transform(data['Processed Invoice Description'])\n",
    "\n",
    "    # Cluster the descriptions using DBSCAN\n",
    "    dbscan = DBSCAN(metric='cosine', eps=0.2, min_samples=2)\n",
    "    clusters = dbscan.fit_predict(tfidf_matrix)\n",
    "    data['cluster'] = clusters\n",
    "    data.to_excel('Processed_Data.xlsx', index=False)\n",
    "    \n",
    "data_processor()"
   ]
  }
 ],
 "metadata": {
  "kernelspec": {
   "display_name": "Python 3 (ipykernel)",
   "language": "python",
   "name": "python3"
  },
  "language_info": {
   "codemirror_mode": {
    "name": "ipython",
    "version": 3
   },
   "file_extension": ".py",
   "mimetype": "text/x-python",
   "name": "python",
   "nbconvert_exporter": "python",
   "pygments_lexer": "ipython3",
   "version": "3.10.7"
  }
 },
 "nbformat": 4,
 "nbformat_minor": 5
}
