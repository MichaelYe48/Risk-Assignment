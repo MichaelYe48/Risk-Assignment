{
 "cells": [
  {
   "cell_type": "markdown",
   "id": "f0c9fcf0",
   "metadata": {},
   "source": [
    "# Risk Ratings  \n",
    "This file processes the `Final Dataset v12` excel sheet to assign risk factors and risk ratings to purchases. It outputs a new excel sheet named `Risk_Result` which contains the risk ratings per purchase.\n",
    "\n",
    "Running this file requires the follow modules to be installed: \n",
    "1. pandas"
   ]
  },
  {
   "cell_type": "code",
   "execution_count": 1,
   "id": "f9975114",
   "metadata": {},
   "outputs": [],
   "source": [
    "### Uncomment to install each dependency ###\n",
    "#% pip install pandas"
   ]
  },
  {
   "cell_type": "code",
   "execution_count": 2,
   "id": "4b2b4296-8ffa-4dd9-bd27-ec98a97db0d2",
   "metadata": {},
   "outputs": [],
   "source": [
    "import pandas as pd"
   ]
  },
  {
   "cell_type": "markdown",
   "id": "78302405-b52e-46fa-89f7-324f71addff9",
   "metadata": {},
   "source": [
    "<b>po_checker</b>, <b>bos_checker</b>, and <b>inv_checker</b> check if the purchase order, bill of sale, and <br>\n",
    "invoice documentation exists, respectively <br><br>"
   ]
  },
  {
   "cell_type": "code",
   "execution_count": 3,
   "id": "8d597ec2-5ad9-4e54-aad5-b443834d8cd9",
   "metadata": {},
   "outputs": [],
   "source": [
    "def po_checker(po):\n",
    "    return po.isna().any(axis=1)\n",
    "\n",
    "def bos_checker(bos):\n",
    "    return bos.isna().any(axis=1)\n",
    "\n",
    "def inv_checker(inv):\n",
    "    return inv.isna().any(axis=1)"
   ]
  },
  {
   "cell_type": "code",
   "execution_count": 4,
   "id": "1817b583",
   "metadata": {},
   "outputs": [],
   "source": [
    "data = pd.read_excel('Processed_Data.xlsx')\n",
    "\n",
    "# preliminary processing\n",
    "bos_columns = data[['BOS Quantity', 'BOS Cost Per Unit', 'BOS Date']]\n",
    "inv_columns = data[['Invoice Number', 'Invoice Group', 'Invoice Amount Paid', \n",
    "                          'Invoice Description', 'Invoice Date','Original Invoice Amount', \n",
    "                          'Invoice Quantity', 'Invoice Cost Per Unit']]\n",
    "po_columns = data[['PO Number', 'PO Date', 'PO Quantity', 'PO Cost Per Unit']]\n",
    "\n",
    "bos_exist = bos_checker(bos_columns)\n",
    "inv_exist = inv_checker(inv_columns)\n",
    "po_exist = po_checker(po_columns)"
   ]
  },
  {
   "cell_type": "markdown",
   "id": "f8b19572",
   "metadata": {},
   "source": [
    "**a_checker** checks if the accounting code is missing or incorrect <br><br>"
   ]
  },
  {
   "cell_type": "code",
   "execution_count": 5,
   "id": "9075ee8b-5079-400c-b2d3-f38e1cf4cbb6",
   "metadata": {},
   "outputs": [],
   "source": [
    "def a_checker(a):\n",
    "    return pd.isna(a)"
   ]
  },
  {
   "cell_type": "markdown",
   "id": "bddeeb77",
   "metadata": {},
   "source": [
    "<b>b_checker</b> checks if the events 1 through 15 above happen out of order <br>\n",
    "(ex: invoice date is prior to purchase order date) <br><br>"
   ]
  },
  {
   "cell_type": "code",
   "execution_count": 6,
   "id": "2915dcd8",
   "metadata": {},
   "outputs": [],
   "source": [
    "def b_checker(d):\n",
    "    po, bos, inv = d['PO Date'], d['BOS Date'], d['Invoice Date']\n",
    "    return (po > bos) | (bos > inv)"
   ]
  },
  {
   "cell_type": "markdown",
   "id": "a8365c78",
   "metadata": {},
   "source": [
    "<b>c_checker</b> checks if the bill of sale or delivery documents are missing <br>\n",
    "or do not agree with amounts on invoice<br><br>"
   ]
  },
  {
   "cell_type": "code",
   "execution_count": 7,
   "id": "50742283",
   "metadata": {},
   "outputs": [],
   "source": [
    "def c_checker(b, d):\n",
    "    bosQ, bosC = d['BOS Quantity'], d['BOS Cost Per Unit']\n",
    "    invQ, invC = d['Invoice Quantity'], d['Invoice Cost Per Unit']\n",
    "    return b | (bosQ != invQ) | (bosC != invC)"
   ]
  },
  {
   "cell_type": "markdown",
   "id": "9bc90a2b",
   "metadata": {},
   "source": [
    "<b>d_checker</b> checks if the bill of sale or delivery documents are missing <br>\n",
    "or do not agree with purchase order<br><br>"
   ]
  },
  {
   "cell_type": "code",
   "execution_count": 8,
   "id": "b4a11bd5",
   "metadata": {},
   "outputs": [],
   "source": [
    "def d_checker(b, d):\n",
    "    bosQ, bosC = d['BOS Quantity'], d['BOS Cost Per Unit']\n",
    "    purQ, purC = d['PO Quantity'], d['PO Cost Per Unit']\n",
    "    return b | (bosQ != purQ) | (bosC != purC)"
   ]
  },
  {
   "cell_type": "markdown",
   "id": "dcbbece9",
   "metadata": {},
   "source": [
    "<b>e_checker</b> checks if purchase order quantity does not agree with invoice quantity<br><br>"
   ]
  },
  {
   "cell_type": "code",
   "execution_count": 9,
   "id": "3dc7cd2e",
   "metadata": {},
   "outputs": [],
   "source": [
    "def e_checker(pur, inv):\n",
    "    return pur != inv"
   ]
  },
  {
   "cell_type": "markdown",
   "id": "5b8166bd",
   "metadata": {},
   "source": [
    "<b>g_checker</b> checks if control documents or elements of the audit trail <br>\n",
    "are missing: purchase order, bill of sale, invoice, accounting code<br><br>"
   ]
  },
  {
   "cell_type": "code",
   "execution_count": 10,
   "id": "9926fbed",
   "metadata": {},
   "outputs": [],
   "source": [
    "def g_checker(p, b, i, acc):\n",
    "    return p | b | i | acc.apply(pd.isna)"
   ]
  },
  {
   "cell_type": "markdown",
   "id": "00d98224",
   "metadata": {},
   "source": [
    "<b>h_checker</b> assigns appropriate risk ratings to transactions based on department characteristics.<br><br>"
   ]
  },
  {
   "cell_type": "code",
   "execution_count": 11,
   "id": "e192afe7",
   "metadata": {
    "scrolled": true
   },
   "outputs": [],
   "source": [
    "def h_checker(df):\n",
    "    result = df['Department Name'].map(department_mapping) * 3.3\n",
    "    return result.fillna(33)"
   ]
  },
  {
   "cell_type": "markdown",
   "id": "47122823",
   "metadata": {},
   "source": [
    "<b>i_checker</b> checks for duplicate payments – <br>\n",
    "same payments to same vendor for same good/service or <br>\n",
    "same payment for same service/good to two or more different vendors<br><br>"
   ]
  },
  {
   "cell_type": "code",
   "execution_count": 12,
   "id": "11ab9555",
   "metadata": {},
   "outputs": [],
   "source": [
    "def i_checker(df):\n",
    "    # Initialize the duplicate flags column\n",
    "    debug_copy = df.copy(deep=True)\n",
    "    debug_copy['duplicate_flag'] = False\n",
    "    \n",
    "    # Group by clusters and check for duplicates within each cluster\n",
    "    for cluster_id, cluster_df in debug_copy.groupby('cluster'):\n",
    "        if cluster_id == -1:\n",
    "            continue\n",
    "\n",
    "        # Mark duplicates within the cluster based on 'Invoice Amount Paid'\n",
    "        duplicates = cluster_df.duplicated('Invoice Amount Paid', keep=False)\n",
    "\n",
    "        # Filter to keep only rows with different 'Check Number' and same 'Invoice Amount Paid'\n",
    "        duplicate_pairs = cluster_df[duplicates]\n",
    "        for invoice_amount, group in duplicate_pairs.groupby('Invoice Amount Paid'):\n",
    "            if len(group['Check Number'].unique()) > 1:  # Ensure different check numbers\n",
    "                debug_copy.loc[group.index, 'duplicate_flag'] = True\n",
    "                \n",
    "#     debug_copy.to_excel('debug.xlsx')\n",
    "\n",
    "    return debug_copy['duplicate_flag']"
   ]
  },
  {
   "cell_type": "markdown",
   "id": "2c87f10d",
   "metadata": {},
   "source": [
    "<b> j_checker </b> checks for payments 2% under the threshold for competitive bidding <br>\n",
    "  \n",
    "The thresholds are as follows:  \n",
    "Informal Bid Threshold: Above \\\\$10,000  \n",
    "Formal Bid Threshold: Above \\\\$100,000  "
   ]
  },
  {
   "cell_type": "code",
   "execution_count": 13,
   "id": "f0916f29",
   "metadata": {},
   "outputs": [],
   "source": [
    "def j_checker(df, column_name, informal_bid_thresh, formal_bid_thresh):\n",
    "    def j_helper(value):\n",
    "        if ((0.98 * informal_bid_thresh) <= value <= informal_bid_thresh or \n",
    "         \n",
    "            (0.98 * formal_bid_thresh) <= value <= formal_bid_thresh):\n",
    "            return True\n",
    "        \n",
    "        else:\n",
    "            return False\n",
    "    \n",
    "    return df[column_name].apply(j_helper)"
   ]
  },
  {
   "cell_type": "markdown",
   "id": "75bfa4e8",
   "metadata": {},
   "source": [
    "<b>k_checker</b> checks for payments 2% under the threshold of higher or Chief approval<br><br>\n",
    "The thresholds are as follows:  \n",
    "Supervisor: Less than or equal to \\\\$999  \n",
    "Manager: \\\\$1000 - \\\\$4999  \n",
    "Director: \\\\$5000 - \\\\$14999  \n",
    "Senior Director: \\\\$15000 - \\\\$34999  \n",
    "Executive Director/VP: \\\\$35000 - \\\\$49999  \n",
    "Chief Officer: \\\\$50000 - \\\\$99999  \n",
    "CFO: Greater than or equal to \\\\$100000  "
   ]
  },
  {
   "cell_type": "code",
   "execution_count": 14,
   "id": "1022eb97",
   "metadata": {},
   "outputs": [],
   "source": [
    "def k_checker(df, column_name, threshold1, threshold2, threshold3, threshold4, threshold5, threshold6):\n",
    "    def k_helper (value):\n",
    "        if ((0.98 * threshold1) <= value <= threshold1 or\n",
    "            \n",
    "         (0.98 * threshold2) <= value <= threshold2 or\n",
    "           \n",
    "         (0.98 * threshold3) <= value <= threshold3 or\n",
    "            \n",
    "         (0.98 * threshold4) <= value <= threshold4 or\n",
    "            \n",
    "         (0.98 * threshold5) <= value <= threshold5 or\n",
    "            \n",
    "         (0.98 * threshold6) <= value <= threshold6):\n",
    "            return True\n",
    "        \n",
    "        else:\n",
    "            return False\n",
    "        \n",
    "    return df[column_name].apply(k_helper)"
   ]
  },
  {
   "cell_type": "markdown",
   "id": "d29cf12f",
   "metadata": {},
   "source": [
    "<b>l_checker</b> checks for payments to a vendor for the same service/good that accumulate<br>\n",
    "to be in excess of blanket purchase order or contract<br><br>"
   ]
  },
  {
   "cell_type": "code",
   "execution_count": 15,
   "id": "890c3319",
   "metadata": {},
   "outputs": [],
   "source": []
  },
  {
   "cell_type": "markdown",
   "id": "6daa7f4c",
   "metadata": {},
   "source": [
    "<b>m_checker</b> checks for split purchase order - multiple POs to same vendor for same items<br><br>"
   ]
  },
  {
   "cell_type": "code",
   "execution_count": 16,
   "id": "1374ca6e",
   "metadata": {},
   "outputs": [],
   "source": []
  },
  {
   "cell_type": "markdown",
   "id": "3bd88d11",
   "metadata": {},
   "source": [
    "**n_checker** split payments - payments to same vendor for same item and same date  "
   ]
  },
  {
   "cell_type": "code",
   "execution_count": 17,
   "id": "bfc06b83",
   "metadata": {},
   "outputs": [],
   "source": [
    "def n_checker(df):\n",
    "    debug_copy = df.copy(deep=True)\n",
    "    grouped = df.groupby(['Check Number','Supplier Number','Invoice Date'])\n",
    "    debug_copy['Total Invoice amount'] = grouped['Invoice Amount Paid'].transform('sum')\n",
    "    debug_copy['match'] = debug_copy['Payment Amount'] == debug_copy['Total Invoice amount']\n",
    "    return ~debug_copy['match']"
   ]
  },
  {
   "cell_type": "markdown",
   "id": "e113653b",
   "metadata": {},
   "source": [
    "**o_checker** checks if vendor paid not on approved vendor list  "
   ]
  },
  {
   "cell_type": "code",
   "execution_count": 18,
   "id": "aa673597",
   "metadata": {},
   "outputs": [],
   "source": [
    "# compiled_active_app_vendors = pd.read_excel(\"compiled_active_app_vendors.xlsx\", header = 1)\n",
    "# def o_checker(df):\n",
    "#     return df['Supplier Number'].isin(compiled_active_app_vendors['Supplier Code'])"
   ]
  },
  {
   "cell_type": "code",
   "execution_count": 19,
   "id": "80390bf2",
   "metadata": {},
   "outputs": [],
   "source": [
    "department_mapping = {\n",
    "    \"Department 1\": 1, \"Department 2\": 2, \"Department 3\": 3, \"Department 4\": 4,\"Department 5\": 5, \n",
    "    \"Department 6\": 2, \"Department 2\": 8, \"Department 2\": 2, \"Department 2\": 2, \"Department 2\": 8\n",
    "}\n",
    "\n",
    "descriptions = {\n",
    "    'a': 'accounting code is missing or incorrect',\n",
    "    'b': 'the events 1 through 15 above happen out of order (ex: invoice date is prior to purchase order date)',\n",
    "    'c': 'bill of sale or delivery documents are missing or do not agree with amounts on invoice',\n",
    "    'd': 'bill of sale or delivery documents are missing or do not agree with purchase order',\n",
    "    'e': 'purchase order quantity does not agree with invoice quantity',\n",
    "    'g': 'control documents or elements of the audit trail are missing: purchase order, bill of sale, invoice, accounting code',\n",
    "    'h': 'the audit trail of transactions within a Department (Marketing, IT, U.M.) are inconsistent',\n",
    "    'i': 'duplicate payments – same payments to same vendor for same good/service or same payment for same service/good to two or more different vendors',\n",
    "    'j': 'payments 2% under the threshold for competitive bidding',\n",
    "    'k': 'payments 2% under the threshold of higher or Chief approval',\n",
    "    'l': 'payments to a vendor for the same service/good that accumulate to be in excess of blanket purchase order or contract',\n",
    "    'm': 'split purchase order - multiple POs to same vendor for same items',\n",
    "    'n': 'split payments - payments to same vendor for same item and same date',\n",
    "    'o': 'vendor paid not on approved vendor list',\n",
    "}"
   ]
  },
  {
   "cell_type": "markdown",
   "id": "ed4d1d0c-4bad-49e3-8fa6-359b3dacd08c",
   "metadata": {},
   "source": [
    "**map_descriptions**: This function maps descriptions to their corresponding letters"
   ]
  },
  {
   "cell_type": "code",
   "execution_count": 20,
   "id": "a7739ff1-7535-4bd4-8099-4af01bda0511",
   "metadata": {},
   "outputs": [],
   "source": [
    "def map_descriptions(letters):\n",
    "    letters = list(letters)\n",
    "    mapped_descriptions = ['-' + descriptions[l] for l in letters]\n",
    "    return '\\n'.join(mapped_descriptions)"
   ]
  },
  {
   "cell_type": "markdown",
   "id": "8d9b075c",
   "metadata": {},
   "source": [
    "<b>main</b> This function runs each risk checking function and outputs one dataframe.<br>\n",
    "The `result` output is a boolean matrix representing the status of each risk factor <br>\n",
    "for a particular transaction. <br>\n",
    "<br>\n",
    "The function can be configured to output additional information regarding the specific risk ratings<br>\n",
    "for transactions.<br>\n",
    "<br>"
   ]
  },
  {
   "cell_type": "code",
   "execution_count": 21,
   "id": "b90c771b",
   "metadata": {},
   "outputs": [],
   "source": [
    "def main():\n",
    "    result = pd.DataFrame()\n",
    "\n",
    "    print('Running risk functions...')\n",
    "    # running risk checkers against columns\n",
    "    result['a'] = a_checker(data['Accounting Codes'])\n",
    "    result['b'] = b_checker(data[['PO Date', 'BOS Date', 'Invoice Date']])\n",
    "    result['c'] = c_checker(bos_exist, data[['BOS Quantity', 'BOS Cost Per Unit', 'Invoice Quantity','Invoice Cost Per Unit']])\n",
    "    result['d'] = d_checker(bos_exist, data[['BOS Quantity', 'BOS Cost Per Unit', 'PO Quantity', 'PO Cost Per Unit']])\n",
    "    result['e'] = e_checker(data['PO Quantity'], data['Invoice Quantity'])\n",
    "    result['g'] = g_checker(po_exist, bos_exist, inv_exist, data['Accounting Codes'])\n",
    "    result['h'] = h_checker(data)\n",
    "    result['i'] = i_checker(data)\n",
    "    result['j'] = j_checker(data, 'Invoice Amount Paid', 10000, 100000)\n",
    "    result['k'] = k_checker(data, 'Invoice Amount Paid', 999, 4999, 14999, 34999, 49999, 99999)\n",
    "    result['l'] = l_checker(data[\"Check Number\"], data['PO Quantity'], data['BOS Quantity'], data['Invoice Quantity'])\n",
    "    result['m'] = m_checker(data)\n",
    "    result['n'] = n_checker(data)\n",
    "    # result['o'] = o_checker(data)\n",
    "\n",
    "    print('Calculating results...')\n",
    "    risk_rating = pd.DataFrame()\n",
    "    risk_rating['a'] = result['a'] * 18\n",
    "    risk_rating['b'] = result['b'] * 62\n",
    "    risk_rating['c'] = result['c'] * 67\n",
    "    risk_rating['d'] = result['d'] * 73\n",
    "    risk_rating['e'] = result['e'] * 64\n",
    "    risk_rating['g'] = result['g'] * 77\n",
    "    risk_rating['h (department score)'] = result['h'] * 1\n",
    "    risk_rating['i'] = result['i'] * 54\n",
    "    risk_rating['j'] = result['j'] * 64\n",
    "    risk_rating['k'] = result['k'] * 42\n",
    "    risk_rating['l'] = result['l'] * 84\n",
    "    risk_rating['m'] = result['m'] * 63\n",
    "    risk_rating['n'] = result['n'] * 58\n",
    "    # risk_rating['o'] = result['o'] * 37\n",
    "\n",
    "    letters = pd.DataFrame()\n",
    "    letters['a'] = result['a'].replace({True: 'a', False: ''})\n",
    "    letters['b'] = result['b'].replace({True: 'b', False: ''})\n",
    "    letters['c'] = result['c'].replace({True: 'c', False: ''})\n",
    "    letters['d'] = result['d'].replace({True: 'd', False: ''})\n",
    "    letters['e'] = result['e'].replace({True: 'e', False: ''})\n",
    "    letters['g'] = result['g'].replace({True: 'g', False: ''})\n",
    "    letters['i'] = result['i'].replace({True: 'i', False: ''})\n",
    "    letters['j'] = result['j'].replace({True: 'j', False: ''})\n",
    "    letters['k'] = result['k'].replace({True: 'k', False: ''})\n",
    "    letters['l'] = result['l'].replace({True: 'l', False: ''})\n",
    "    letters['m'] = result['m'].replace({True: 'm', False: ''})\n",
    "    letters['n'] = result['n'].replace({True: 'n', False: ''})\n",
    "\n",
    "    # out of 796 total (a-o)\n",
    "    letters['risks'] = letters.astype(str).agg(''.join, axis=1)\n",
    "    letters['Description'] = letters['risks'].apply(map_descriptions)\n",
    "    sums = risk_rating.sum(axis=1).rename('Risk Rating')\n",
    "\n",
    "\n",
    "    highlighted = pd.concat([risk_rating['h (department score)'], letters['risks'], sums, letters['Description']], axis=1)\n",
    "    slice_ = ['cluster', 'h (department score)', 'risks', 'Risk Rating', 'Description']\n",
    "    concatenated_data = pd.concat([data.drop('Processed Invoice Description', axis=1), highlighted], axis=1)\n",
    "    concatenated_data = concatenated_data.style.set_properties(**{'background-color': 'yellow'}, subset=slice_)\n",
    "        \n",
    "    ####################################################\n",
    "    ### uncomment lines for the information you want ###\n",
    "    ####################################################\n",
    "    \n",
    "    \"\"\"data will show the underlying data we have been using\"\"\"\n",
    "    # print(data.head())\n",
    "    \n",
    "    \"\"\"sums will show the transactions with their appropriate risk rating scores\"\"\"\n",
    "    # print(sums.head())\n",
    "    \n",
    "    \"\"\"result will show the transactions with their appropriate risk categories\"\"\"\n",
    "    # print(result.head())\n",
    "\n",
    "    #export final data\n",
    "    print('Exporting data...')\n",
    "    concatenated_data.to_excel('Risk_Result.xlsx', index=False, engine='openpyxl')\n",
    "    print('Done!')"
   ]
  },
  {
   "cell_type": "code",
   "execution_count": 24,
   "id": "b48b7d48",
   "metadata": {},
   "outputs": [
    {
     "name": "stdout",
     "output_type": "stream",
     "text": [
      "Running risk functions...\n",
      "Calculating results...\n",
      "Exporting data...\n",
      "Done!\n"
     ]
    }
   ],
   "source": [
    "if __name__ == '__main__':\n",
    "    main()"
   ]
  }
 ],
 "metadata": {
  "kernelspec": {
   "display_name": "Python 3 (ipykernel)",
   "language": "python",
   "name": "python3"
  },
  "language_info": {
   "codemirror_mode": {
    "name": "ipython",
    "version": 3
   },
   "file_extension": ".py",
   "mimetype": "text/x-python",
   "name": "python",
   "nbconvert_exporter": "python",
   "pygments_lexer": "ipython3",
   "version": "3.10.7"
  }
 },
 "nbformat": 4,
 "nbformat_minor": 5
}
